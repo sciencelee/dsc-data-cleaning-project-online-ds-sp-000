{
 "cells": [
  {
   "cell_type": "markdown",
   "metadata": {},
   "source": [
    "# Project - Data Cleaning\n",
    "\n",
    "## Introduction\n",
    "In this lab, we'll make use of everything we've learned about pandas, data cleaning, and exploratory data analysis. In order to complete this lab, you'll have to import, clean, combine, reshape, and visualize data to answer questions provided, as well as your own questions!\n",
    "\n",
    "## Objectives\n",
    "You will be able to:\n",
    "- Use different types of joins to merge DataFrames \n",
    "- Identify missing values in a dataframe using built-in methods \n",
    "- Evaluate and execute the best strategy for dealing with missing, duplicate, and erroneous values for a given dataset \n",
    "- Inspect data for duplicates or extraneous values and remove them \n",
    "\n",
    "\n",
    "## The dataset\n",
    "In this lab, we'll work with the comprehensive [Super Heroes Dataset](https://www.kaggle.com/claudiodavi/superhero-set/data), which can be found on Kaggle!\n",
    "\n",
    "\n",
    "## Getting Started\n",
    "\n",
    "In the cell below:\n",
    "\n",
    "* Import and alias pandas as `pd`\n",
    "* Import and alias numpy as `np`\n",
    "* Import and alias seaborn as `sns`\n",
    "* Import and alias matplotlib.pyplot as `plt`\n",
    "* Set matplotlib visualizations to display inline in the notebook"
   ]
  },
  {
   "cell_type": "code",
   "execution_count": 241,
   "metadata": {},
   "outputs": [],
   "source": [
    "import pandas as pd\n",
    "import numpy as np\n",
    "import seaborn as sns\n",
    "import matplotlib.pyplot as plt\n",
    "%matplotlib inline"
   ]
  },
  {
   "cell_type": "markdown",
   "metadata": {},
   "source": [
    "For this lab, our dataset is split among two different sources -- `'heroes_information.csv'` and `'super_hero_powers.csv'`.\n",
    "\n",
    "Use pandas to read in each file and store them in DataFrames in the appropriate variables below. Then, display the `.head()` of each to ensure that everything loaded correctly.  "
   ]
  },
  {
   "cell_type": "code",
   "execution_count": 242,
   "metadata": {},
   "outputs": [],
   "source": [
    "heroes_df = pd.read_csv('heroes_information.csv')\n",
    "powers_df = pd.read_csv('super_hero_powers.csv')"
   ]
  },
  {
   "cell_type": "markdown",
   "metadata": {},
   "source": [
    "It looks as if the heroes information dataset contained an index column.  We did not specify that this dataset contained an index column, because we hadn't seen it yet. Pandas does not know how to tell apart an index column from any other data, so it stored it with the column name `Unnamed: 0`.  \n",
    "\n",
    "Our DataFrame provided row indices by default, so this column is not needed.  Drop it from the DataFrame in place in the cell below, and then display the head of `heroes_df` to ensure that it worked properly. "
   ]
  },
  {
   "cell_type": "code",
   "execution_count": 243,
   "metadata": {},
   "outputs": [
    {
     "data": {
      "text/html": [
       "<div>\n",
       "<style scoped>\n",
       "    .dataframe tbody tr th:only-of-type {\n",
       "        vertical-align: middle;\n",
       "    }\n",
       "\n",
       "    .dataframe tbody tr th {\n",
       "        vertical-align: top;\n",
       "    }\n",
       "\n",
       "    .dataframe thead th {\n",
       "        text-align: right;\n",
       "    }\n",
       "</style>\n",
       "<table border=\"1\" class=\"dataframe\">\n",
       "  <thead>\n",
       "    <tr style=\"text-align: right;\">\n",
       "      <th></th>\n",
       "      <th>hero_names</th>\n",
       "      <th>Agility</th>\n",
       "      <th>Accelerated Healing</th>\n",
       "      <th>Lantern Power Ring</th>\n",
       "      <th>Dimensional Awareness</th>\n",
       "      <th>Cold Resistance</th>\n",
       "      <th>Durability</th>\n",
       "      <th>Stealth</th>\n",
       "      <th>Energy Absorption</th>\n",
       "      <th>Flight</th>\n",
       "      <th>...</th>\n",
       "      <th>Web Creation</th>\n",
       "      <th>Reality Warping</th>\n",
       "      <th>Odin Force</th>\n",
       "      <th>Symbiote Costume</th>\n",
       "      <th>Speed Force</th>\n",
       "      <th>Phoenix Force</th>\n",
       "      <th>Molecular Dissipation</th>\n",
       "      <th>Vision - Cryo</th>\n",
       "      <th>Omnipresent</th>\n",
       "      <th>Omniscient</th>\n",
       "    </tr>\n",
       "  </thead>\n",
       "  <tbody>\n",
       "    <tr>\n",
       "      <td>0</td>\n",
       "      <td>3-D Man</td>\n",
       "      <td>True</td>\n",
       "      <td>False</td>\n",
       "      <td>False</td>\n",
       "      <td>False</td>\n",
       "      <td>False</td>\n",
       "      <td>False</td>\n",
       "      <td>False</td>\n",
       "      <td>False</td>\n",
       "      <td>False</td>\n",
       "      <td>...</td>\n",
       "      <td>False</td>\n",
       "      <td>False</td>\n",
       "      <td>False</td>\n",
       "      <td>False</td>\n",
       "      <td>False</td>\n",
       "      <td>False</td>\n",
       "      <td>False</td>\n",
       "      <td>False</td>\n",
       "      <td>False</td>\n",
       "      <td>False</td>\n",
       "    </tr>\n",
       "    <tr>\n",
       "      <td>1</td>\n",
       "      <td>A-Bomb</td>\n",
       "      <td>False</td>\n",
       "      <td>True</td>\n",
       "      <td>False</td>\n",
       "      <td>False</td>\n",
       "      <td>False</td>\n",
       "      <td>True</td>\n",
       "      <td>False</td>\n",
       "      <td>False</td>\n",
       "      <td>False</td>\n",
       "      <td>...</td>\n",
       "      <td>False</td>\n",
       "      <td>False</td>\n",
       "      <td>False</td>\n",
       "      <td>False</td>\n",
       "      <td>False</td>\n",
       "      <td>False</td>\n",
       "      <td>False</td>\n",
       "      <td>False</td>\n",
       "      <td>False</td>\n",
       "      <td>False</td>\n",
       "    </tr>\n",
       "    <tr>\n",
       "      <td>2</td>\n",
       "      <td>Abe Sapien</td>\n",
       "      <td>True</td>\n",
       "      <td>True</td>\n",
       "      <td>False</td>\n",
       "      <td>False</td>\n",
       "      <td>True</td>\n",
       "      <td>True</td>\n",
       "      <td>False</td>\n",
       "      <td>False</td>\n",
       "      <td>False</td>\n",
       "      <td>...</td>\n",
       "      <td>False</td>\n",
       "      <td>False</td>\n",
       "      <td>False</td>\n",
       "      <td>False</td>\n",
       "      <td>False</td>\n",
       "      <td>False</td>\n",
       "      <td>False</td>\n",
       "      <td>False</td>\n",
       "      <td>False</td>\n",
       "      <td>False</td>\n",
       "    </tr>\n",
       "    <tr>\n",
       "      <td>3</td>\n",
       "      <td>Abin Sur</td>\n",
       "      <td>False</td>\n",
       "      <td>False</td>\n",
       "      <td>True</td>\n",
       "      <td>False</td>\n",
       "      <td>False</td>\n",
       "      <td>False</td>\n",
       "      <td>False</td>\n",
       "      <td>False</td>\n",
       "      <td>False</td>\n",
       "      <td>...</td>\n",
       "      <td>False</td>\n",
       "      <td>False</td>\n",
       "      <td>False</td>\n",
       "      <td>False</td>\n",
       "      <td>False</td>\n",
       "      <td>False</td>\n",
       "      <td>False</td>\n",
       "      <td>False</td>\n",
       "      <td>False</td>\n",
       "      <td>False</td>\n",
       "    </tr>\n",
       "    <tr>\n",
       "      <td>4</td>\n",
       "      <td>Abomination</td>\n",
       "      <td>False</td>\n",
       "      <td>True</td>\n",
       "      <td>False</td>\n",
       "      <td>False</td>\n",
       "      <td>False</td>\n",
       "      <td>False</td>\n",
       "      <td>False</td>\n",
       "      <td>False</td>\n",
       "      <td>False</td>\n",
       "      <td>...</td>\n",
       "      <td>False</td>\n",
       "      <td>False</td>\n",
       "      <td>False</td>\n",
       "      <td>False</td>\n",
       "      <td>False</td>\n",
       "      <td>False</td>\n",
       "      <td>False</td>\n",
       "      <td>False</td>\n",
       "      <td>False</td>\n",
       "      <td>False</td>\n",
       "    </tr>\n",
       "  </tbody>\n",
       "</table>\n",
       "<p>5 rows × 168 columns</p>\n",
       "</div>"
      ],
      "text/plain": [
       "    hero_names  Agility  Accelerated Healing  Lantern Power Ring  \\\n",
       "0      3-D Man     True                False               False   \n",
       "1       A-Bomb    False                 True               False   \n",
       "2   Abe Sapien     True                 True               False   \n",
       "3     Abin Sur    False                False                True   \n",
       "4  Abomination    False                 True               False   \n",
       "\n",
       "   Dimensional Awareness  Cold Resistance  Durability  Stealth  \\\n",
       "0                  False            False       False    False   \n",
       "1                  False            False        True    False   \n",
       "2                  False             True        True    False   \n",
       "3                  False            False       False    False   \n",
       "4                  False            False       False    False   \n",
       "\n",
       "   Energy Absorption  Flight  ...  Web Creation  Reality Warping  Odin Force  \\\n",
       "0              False   False  ...         False            False       False   \n",
       "1              False   False  ...         False            False       False   \n",
       "2              False   False  ...         False            False       False   \n",
       "3              False   False  ...         False            False       False   \n",
       "4              False   False  ...         False            False       False   \n",
       "\n",
       "   Symbiote Costume  Speed Force  Phoenix Force  Molecular Dissipation  \\\n",
       "0             False        False          False                  False   \n",
       "1             False        False          False                  False   \n",
       "2             False        False          False                  False   \n",
       "3             False        False          False                  False   \n",
       "4             False        False          False                  False   \n",
       "\n",
       "   Vision - Cryo  Omnipresent  Omniscient  \n",
       "0          False        False       False  \n",
       "1          False        False       False  \n",
       "2          False        False       False  \n",
       "3          False        False       False  \n",
       "4          False        False       False  \n",
       "\n",
       "[5 rows x 168 columns]"
      ]
     },
     "execution_count": 243,
     "metadata": {},
     "output_type": "execute_result"
    }
   ],
   "source": [
    "heroes_df.drop(heroes_df.columns[0], axis=1, inplace=True)\n",
    "powers_df.head()"
   ]
  },
  {
   "cell_type": "markdown",
   "metadata": {},
   "source": [
    "## Familiarize yourself with the dataset\n",
    "\n",
    "The first step in our Exploratory Data Analysis will be to get familiar with the data.  This step includes:\n",
    "\n",
    "* Understanding the dimensionality of your dataset\n",
    "* Investigating what type of data it contains, and the data types used to store it\n",
    "* Discovering how missing values are encoded, and how many there are\n",
    "* Getting a feel for what information it does and doesn't contain\n",
    "\n",
    "In the cell below, get the descriptive statistics of each DataFrame.  "
   ]
  },
  {
   "cell_type": "code",
   "execution_count": 244,
   "metadata": {},
   "outputs": [
    {
     "name": "stdout",
     "output_type": "stream",
     "text": [
      "<class 'pandas.core.frame.DataFrame'>\n",
      "RangeIndex: 734 entries, 0 to 733\n",
      "Data columns (total 10 columns):\n",
      "name          734 non-null object\n",
      "Gender        734 non-null object\n",
      "Eye color     734 non-null object\n",
      "Race          734 non-null object\n",
      "Hair color    734 non-null object\n",
      "Height        734 non-null float64\n",
      "Publisher     719 non-null object\n",
      "Skin color    734 non-null object\n",
      "Alignment     734 non-null object\n",
      "Weight        732 non-null float64\n",
      "dtypes: float64(2), object(8)\n",
      "memory usage: 57.5+ KB\n",
      "<class 'pandas.core.frame.DataFrame'>\n",
      "RangeIndex: 667 entries, 0 to 666\n",
      "Columns: 168 entries, hero_names to Omniscient\n",
      "dtypes: bool(167), object(1)\n",
      "memory usage: 114.1+ KB\n"
     ]
    },
    {
     "data": {
      "text/plain": [
       "hero_names               0\n",
       "Agility                  0\n",
       "Accelerated Healing      0\n",
       "Lantern Power Ring       0\n",
       "Dimensional Awareness    0\n",
       "                        ..\n",
       "Phoenix Force            0\n",
       "Molecular Dissipation    0\n",
       "Vision - Cryo            0\n",
       "Omnipresent              0\n",
       "Omniscient               0\n",
       "Length: 168, dtype: int64"
      ]
     },
     "execution_count": 244,
     "metadata": {},
     "output_type": "execute_result"
    }
   ],
   "source": [
    "heroes_df.info()\n",
    "powers_df.info()\n",
    "#heroes_df.mean()\n",
    "#heroes_df.isna().sum()\n",
    "powers_df.isna().sum()\n",
    "\n",
    "# for col in heroes_df.columns:\n",
    "#     print(heroes_df[col].unique())\n",
    "\n",
    "# for col in powers_df.columns:\n",
    "#     print(powers_df[col].unique())"
   ]
  },
  {
   "cell_type": "markdown",
   "metadata": {},
   "source": [
    "## Dealing with missing values\n",
    "\n",
    "Starting in the cell below, detect and deal with any missing values in either DataFrame. Then, explain your methodology for detecting and dealing with outliers in the markdown section below. Be sure to explain your strategy for dealing with missing values in numeric columns, as well as your strategy for dealing with missing values in non-numeric columns.  \n",
    "\n",
    "Note that if you need to add more cells to write code in, you can do this by:\n",
    "\n",
    "**1.** Highlighting a cell and then pressing `ESC` to enter command mode.  \n",
    "**2.** Press `A` to add a cell above the highlighted cell, or `B` to add a cell below the highlighted cell. \n",
    "\n",
    "Describe your strategy below this line:\n",
    "____________________________________________________________________________________________________________________________\n",
    "\n",
    "\n"
   ]
  },
  {
   "cell_type": "code",
   "execution_count": 245,
   "metadata": {},
   "outputs": [
    {
     "data": {
      "text/plain": [
       "Index(['name', 'Gender', 'Eye color', 'Race', 'Hair color', 'Height',\n",
       "       'Publisher', 'Skin color', 'Alignment', 'Weight'],\n",
       "      dtype='object')"
      ]
     },
     "execution_count": 245,
     "metadata": {},
     "output_type": "execute_result"
    }
   ],
   "source": [
    "heroes_df.columns  # name is lower case.  Will wait to change it when we join"
   ]
  },
  {
   "cell_type": "code",
   "execution_count": 246,
   "metadata": {},
   "outputs": [
    {
     "data": {
      "text/plain": [
       "0"
      ]
     },
     "execution_count": 246,
     "metadata": {},
     "output_type": "execute_result"
    }
   ],
   "source": [
    "# Remove Duplicates\n",
    "\n",
    "# look for duplicates, we have 19 duplicate names\n",
    "len(heroes_df['name'].unique()) - len(heroes_df)\n",
    "\n",
    "# We have 1 duplicate index/row\n",
    "heroes_df.duplicated().sum()\n",
    "heroes_df.drop_duplicates(keep='first', inplace=True)\n",
    "\n",
    "# There was one duplicate row which has been removed\n",
    "heroes_df.duplicated().sum()\n",
    "\n",
    "\n",
    "# Dupes for power\n",
    "powers_df.duplicated().sum()  # Great.  This df looks good. All values are names or booleans, no duplicates.\n",
    "\n"
   ]
  },
  {
   "cell_type": "code",
   "execution_count": 247,
   "metadata": {},
   "outputs": [
    {
     "data": {
      "text/plain": [
       "0.03956343792633015"
      ]
     },
     "execution_count": 247,
     "metadata": {},
     "output_type": "execute_result"
    }
   ],
   "source": [
    "# GENDER\n",
    "\n",
    "heroes_df['Gender'].isna().sum() # Gender has no NaN values\n",
    "heroes_df['Gender'].unique()  # Gender contains 3 values\n",
    "len(heroes_df[heroes_df['Gender'] == '-']) / len(heroes_df)\n",
    "\n",
    "# The '-' value might indicate unknown or other values.  \n",
    "# I will keep this as it might be useful to indicate representation of non-binary heroes.\n",
    "# It only makes up 4 percent of the data if we need to later remove it\n",
    "\n",
    "# If I knew more about reason for missing data, I might replace it with Other or \"Not Provided\"\n",
    "\n"
   ]
  },
  {
   "cell_type": "markdown",
   "metadata": {},
   "source": [
    "Eye color data cleaning."
   ]
  },
  {
   "cell_type": "code",
   "execution_count": 248,
   "metadata": {},
   "outputs": [],
   "source": [
    "# EYE COLOR\n",
    "# contains unknown or missing data\n",
    "# We will just distribute via random choice based on current distributions\n",
    "\n",
    "heroes_df['Eye color'].unique()  \n",
    "heroes_df[heroes_df['Eye color'] == '-']\n",
    "# Unknown eyecolor '-' accounts for 171/723 of the data.  We won't drop those\n",
    "\n",
    "eyecolor_rel_prob = heroes_df['Eye color'].value_counts(normalize=True).drop(index=['-'])\n",
    "eyecolor_rel_prob\n",
    "\n",
    "colors = list(eyecolor_rel_prob.index)\n",
    "probs = [i/sum(eyecolor_rel_prob) for i in eyecolor_rel_prob.values]\n",
    "# print(colors, probs)\n",
    "\n",
    "def impute_eyecolor(value):\n",
    "    if value == 'Human' or value == '-':\n",
    "        return np.random.choice(colors, p=probs)\n",
    "    else:\n",
    "        return value\n",
    "    \n",
    "heroes_df['Eye color'] = heroes_df['Eye color'].map(lambda x: impute_eyecolor(x))\n",
    "# heroes_df['Eye color'].unique()\n",
    "\n",
    "# Also need to fix 'bown'\n",
    "heroes_df.loc[heroes_df['Eye color'] == 'bown', 'Eye color'] = \"brown\"\n"
   ]
  },
  {
   "cell_type": "markdown",
   "metadata": {},
   "source": [
    "Hair color data cleaning."
   ]
  },
  {
   "cell_type": "code",
   "execution_count": 249,
   "metadata": {},
   "outputs": [],
   "source": [
    "# HAIR COLOR\n",
    "# Lets do similar replacement strategy for hair color\n",
    "\n",
    "\n",
    "# Replace Brownn with Brown\n",
    "heroes_df.loc[heroes_df['Hair color'] == 'Brownn', 'Hair color'] = 'brown'\n",
    "\n",
    "# Make all lower case\n",
    "# There are also two blonds. \"Blond\" and \"blond\"\n",
    "heroes_df['Hair color'] = heroes_df['Hair color'].map(lambda x: x.lower())\n",
    "heroes_df[\"Hair color\"].unique() \n",
    "\n",
    "# Replace '-' with distribution of hair colors\n",
    "hair_rel_prob = heroes_df['Hair color'].value_counts(normalize=True)\n",
    "hair_rel_prob = hair_rel_prob.drop(['-'])\n",
    "hair_rel_prob\n",
    "\n",
    "colors = list(hair_rel_prob.index)\n",
    "probs = [i/sum(hair_rel_prob) for i in hair_rel_prob.values]\n",
    "#print(colors, probs)\n",
    "\n",
    "def impute_haircolor(value):\n",
    "    if value in ['Human', '-']:\n",
    "        return np.random.choice(colors, p=probs)\n",
    "    else:\n",
    "        return value\n",
    " \n",
    "\n",
    "# Impute the changes\n",
    "heroes_df['Hair color'] = heroes_df['Hair color'].map(lambda x: impute_haircolor(x))\n"
   ]
  },
  {
   "cell_type": "markdown",
   "metadata": {},
   "source": [
    "Race col data cleaning."
   ]
  },
  {
   "cell_type": "code",
   "execution_count": 250,
   "metadata": {},
   "outputs": [
    {
     "name": "stdout",
     "output_type": "stream",
     "text": [
      "<class 'pandas.core.frame.DataFrame'>\n",
      "Int64Index: 207 entries, 0 to 732\n",
      "Data columns (total 10 columns):\n",
      "name          207 non-null object\n",
      "Gender        207 non-null object\n",
      "Eye color     207 non-null object\n",
      "Race          207 non-null object\n",
      "Hair color    207 non-null object\n",
      "Height        207 non-null float64\n",
      "Publisher     203 non-null object\n",
      "Skin color    207 non-null object\n",
      "Alignment     207 non-null object\n",
      "Weight        207 non-null float64\n",
      "dtypes: float64(2), object(8)\n",
      "memory usage: 17.8+ KB\n"
     ]
    },
    {
     "data": {
      "text/plain": [
       "<matplotlib.axes._subplots.AxesSubplot at 0x1a29578550>"
      ]
     },
     "execution_count": 250,
     "metadata": {},
     "output_type": "execute_result"
    },
    {
     "data": {
      "image/png": "[encoded data removed]",
      "text/plain": [
       "<Figure size 864x288 with 1 Axes>"
      ]
     },
     "metadata": {
      "needs_background": "light"
     },
     "output_type": "display_data"
    }
   ],
   "source": [
    "# RACE\n",
    "\n",
    "heroes_df['Race'].unique()\n",
    "heroes_df[heroes_df['Race'] == '-']  # lots of them\n",
    "heroes_df[heroes_df['Race'] == 'Human'].info()\n",
    "\n",
    "#heroes_df['Race'].hist(figsize=(12,4), xrot=90, bins=len(heroes_df['Race'].unique()))\n",
    "\n",
    "# Unknown race seems to make up the largest group of heroes.  Can't get rid of it.  \n",
    "#. We will replace with Human since the overwhelming majority match human.\n",
    "\n",
    "heroes_df.loc[heroes_df['Race'] == '-', 'Race'] = 'Human'\n",
    "heroes_df['Race'].hist(figsize=(12,4), xrot=90, bins=len(heroes_df['Race'].unique()))\n"
   ]
  },
  {
   "cell_type": "markdown",
   "metadata": {},
   "source": [
    "Height data cleaning\n",
    "Will clean by replacing negative values with the median.  Extreme tall outliers were motivation for choosing median over mean."
   ]
  },
  {
   "cell_type": "code",
   "execution_count": 251,
   "metadata": {},
   "outputs": [
    {
     "name": "stdout",
     "output_type": "stream",
     "text": [
      "<class 'pandas.core.frame.DataFrame'>\n",
      "Int64Index: 733 entries, 0 to 733\n",
      "Data columns (total 10 columns):\n",
      "name          733 non-null object\n",
      "Gender        733 non-null object\n",
      "Eye color     733 non-null object\n",
      "Race          733 non-null object\n",
      "Hair color    733 non-null object\n",
      "Height        733 non-null float64\n",
      "Publisher     718 non-null object\n",
      "Skin color    733 non-null object\n",
      "Alignment     733 non-null object\n",
      "Weight        731 non-null float64\n",
      "dtypes: float64(2), object(8)\n",
      "memory usage: 63.0+ KB\n",
      "183.0\n",
      "THIS>>>> 0\n",
      "AND>>>> 0\n",
      "0      203.0\n",
      "1      191.0\n",
      "2      185.0\n",
      "3      203.0\n",
      "4      183.0\n",
      "       ...  \n",
      "729    165.0\n",
      "730    304.8\n",
      "731     66.0\n",
      "732    170.0\n",
      "733    185.0\n",
      "Name: Height, Length: 733, dtype: float64\n"
     ]
    },
    {
     "data": {
      "image/png": "[encoded data removed]",
      "text/plain": [
       "<Figure size 432x288 with 1 Axes>"
      ]
     },
     "metadata": {
      "needs_background": "light"
     },
     "output_type": "display_data"
    },
    {
     "data": {
      "image/png": "[encoded data removed]",
      "text/plain": [
       "<Figure size 432x288 with 1 Axes>"
      ]
     },
     "metadata": {
      "needs_background": "light"
     },
     "output_type": "display_data"
    }
   ],
   "source": [
    "# HEIGHT FIX\n",
    "\n",
    "heroes_df.info()  # no NaN\n",
    "#heroes_df = heroes_df['Height'].map(lambda x: float(x))\n",
    "heroes_df.hist('Height', bins=100)  # see some in the negative\n",
    "\n",
    "# lets reset the height to the median.  I want the median over the mean because of the extreme tall outliers\n",
    "height_median = heroes_df[heroes_df[\"Height\"] > 0].median()[0]\n",
    "print(height_median)  # 183\n",
    "\n",
    "print(\"THIS>>>>\", heroes_df['Height'].isna().sum())\n",
    "\n",
    "heroes_df.loc[heroes_df[\"Height\"] < 0, \"Height\"] = height_median\n",
    "heroes_df.hist('Height', bins=100)  # see some in the negative\n",
    "\n",
    "# heroes_df.loc[heroes_df['Height'].isna(), 'Height'] = height_median\n",
    "\n",
    "values={'Height': height_median}\n",
    "heroes_df.fillna(value=values)  # THIS FUNCTION NEXT TIME!!!\n",
    "\n",
    "\n",
    "print(\"AND>>>>\", heroes_df['Height'].isna().sum())\n",
    "print(heroes_df['Height'])"
   ]
  },
  {
   "cell_type": "code",
   "execution_count": 252,
   "metadata": {},
   "outputs": [
    {
     "data": {
      "text/plain": [
       "2"
      ]
     },
     "execution_count": 252,
     "metadata": {},
     "output_type": "execute_result"
    },
    {
     "data": {
      "image/png": "[encoded data removed]",
      "text/plain": [
       "<Figure size 432x288 with 1 Axes>"
      ]
     },
     "metadata": {
      "needs_background": "light"
     },
     "output_type": "display_data"
    }
   ],
   "source": [
    "# WEIGHT FIX\n",
    "# replace with median value\n",
    "\n",
    "\n",
    "weight_mean = heroes_df[heroes_df['Weight'] > 0]['Weight'].median()\n",
    "heroes_df.loc[heroes_df['Weight'] < 0, 'Weight'] = weight_mean \n",
    "heroes_df.hist(\"Weight\", bins=100)\n",
    "\n",
    "heroes_df['Weight'].isna().sum()\n"
   ]
  },
  {
   "cell_type": "markdown",
   "metadata": {},
   "source": [
    "Clean publisher data\n",
    "If there is no publisher, I deleted the data rows.  Without a publisher, it would not be considered a superhero comic.\n",
    "\n",
    "Example: Chuck Norris with no other data.\n"
   ]
  },
  {
   "cell_type": "code",
   "execution_count": 253,
   "metadata": {},
   "outputs": [
    {
     "name": "stdout",
     "output_type": "stream",
     "text": [
      "<class 'pandas.core.frame.DataFrame'>\n",
      "Int64Index: 718 entries, 0 to 733\n",
      "Data columns (total 10 columns):\n",
      "name          718 non-null object\n",
      "Gender        718 non-null object\n",
      "Eye color     718 non-null object\n",
      "Race          718 non-null object\n",
      "Hair color    718 non-null object\n",
      "Height        718 non-null float64\n",
      "Publisher     718 non-null object\n",
      "Skin color    718 non-null object\n",
      "Alignment     718 non-null object\n",
      "Weight        718 non-null float64\n",
      "dtypes: float64(2), object(8)\n",
      "memory usage: 61.7+ KB\n"
     ]
    }
   ],
   "source": [
    "# PUBLISHER CLEAN\n",
    "heroes_df.columns\n",
    "heroes_df = heroes_df[heroes_df['Publisher'].notna()]\n",
    "heroes_df['Publisher'].unique()\n",
    "\n",
    "heroes_df.info()\n"
   ]
  },
  {
   "cell_type": "markdown",
   "metadata": {},
   "source": [
    "## Joining, Grouping, and Aggregating\n",
    "\n",
    "In the cell below, join the two DataFrames.  Think about which sort of join you should use, as well as which columns you should join on.  Rename columns and manipulate as needed.  \n",
    "\n",
    "**_HINT:_** Consider the possibility that the columns you choose to join on contain duplicate entries. If that is the case, devise a strategy to deal with the duplicates.\n",
    "\n",
    "**_HINT:_** If the join throws an error message, consider setting the column you want to join on as the index for each DataFrame.  "
   ]
  },
  {
   "cell_type": "code",
   "execution_count": 254,
   "metadata": {},
   "outputs": [
    {
     "name": "stdout",
     "output_type": "stream",
     "text": [
      "667 718\n",
      "<class 'pandas.core.frame.DataFrame'>\n",
      "Int64Index: 718 entries, 0 to 733\n",
      "Columns: 178 entries, name to Omniscient\n",
      "dtypes: float64(2), object(176)\n",
      "memory usage: 1.0+ MB\n"
     ]
    },
    {
     "data": {
      "text/html": [
       "<div>\n",
       "<style scoped>\n",
       "    .dataframe tbody tr th:only-of-type {\n",
       "        vertical-align: middle;\n",
       "    }\n",
       "\n",
       "    .dataframe tbody tr th {\n",
       "        vertical-align: top;\n",
       "    }\n",
       "\n",
       "    .dataframe thead th {\n",
       "        text-align: right;\n",
       "    }\n",
       "</style>\n",
       "<table border=\"1\" class=\"dataframe\">\n",
       "  <thead>\n",
       "    <tr style=\"text-align: right;\">\n",
       "      <th></th>\n",
       "      <th>name</th>\n",
       "      <th>Gender</th>\n",
       "      <th>Eye color</th>\n",
       "      <th>Race</th>\n",
       "      <th>Hair color</th>\n",
       "      <th>Height</th>\n",
       "      <th>Publisher</th>\n",
       "      <th>Skin color</th>\n",
       "      <th>Alignment</th>\n",
       "      <th>Weight</th>\n",
       "      <th>...</th>\n",
       "      <th>Web Creation</th>\n",
       "      <th>Reality Warping</th>\n",
       "      <th>Odin Force</th>\n",
       "      <th>Symbiote Costume</th>\n",
       "      <th>Speed Force</th>\n",
       "      <th>Phoenix Force</th>\n",
       "      <th>Molecular Dissipation</th>\n",
       "      <th>Vision - Cryo</th>\n",
       "      <th>Omnipresent</th>\n",
       "      <th>Omniscient</th>\n",
       "    </tr>\n",
       "  </thead>\n",
       "  <tbody>\n",
       "    <tr>\n",
       "      <td>0</td>\n",
       "      <td>A-Bomb</td>\n",
       "      <td>Male</td>\n",
       "      <td>yellow</td>\n",
       "      <td>Human</td>\n",
       "      <td>no hair</td>\n",
       "      <td>203.0</td>\n",
       "      <td>Marvel Comics</td>\n",
       "      <td>-</td>\n",
       "      <td>good</td>\n",
       "      <td>441.0</td>\n",
       "      <td>...</td>\n",
       "      <td>False</td>\n",
       "      <td>False</td>\n",
       "      <td>False</td>\n",
       "      <td>False</td>\n",
       "      <td>False</td>\n",
       "      <td>False</td>\n",
       "      <td>False</td>\n",
       "      <td>False</td>\n",
       "      <td>False</td>\n",
       "      <td>False</td>\n",
       "    </tr>\n",
       "    <tr>\n",
       "      <td>1</td>\n",
       "      <td>Abe Sapien</td>\n",
       "      <td>Male</td>\n",
       "      <td>blue</td>\n",
       "      <td>Icthyo Sapien</td>\n",
       "      <td>no hair</td>\n",
       "      <td>191.0</td>\n",
       "      <td>Dark Horse Comics</td>\n",
       "      <td>blue</td>\n",
       "      <td>good</td>\n",
       "      <td>65.0</td>\n",
       "      <td>...</td>\n",
       "      <td>False</td>\n",
       "      <td>False</td>\n",
       "      <td>False</td>\n",
       "      <td>False</td>\n",
       "      <td>False</td>\n",
       "      <td>False</td>\n",
       "      <td>False</td>\n",
       "      <td>False</td>\n",
       "      <td>False</td>\n",
       "      <td>False</td>\n",
       "    </tr>\n",
       "    <tr>\n",
       "      <td>2</td>\n",
       "      <td>Abin Sur</td>\n",
       "      <td>Male</td>\n",
       "      <td>blue</td>\n",
       "      <td>Ungaran</td>\n",
       "      <td>no hair</td>\n",
       "      <td>185.0</td>\n",
       "      <td>DC Comics</td>\n",
       "      <td>red</td>\n",
       "      <td>good</td>\n",
       "      <td>90.0</td>\n",
       "      <td>...</td>\n",
       "      <td>False</td>\n",
       "      <td>False</td>\n",
       "      <td>False</td>\n",
       "      <td>False</td>\n",
       "      <td>False</td>\n",
       "      <td>False</td>\n",
       "      <td>False</td>\n",
       "      <td>False</td>\n",
       "      <td>False</td>\n",
       "      <td>False</td>\n",
       "    </tr>\n",
       "    <tr>\n",
       "      <td>3</td>\n",
       "      <td>Abomination</td>\n",
       "      <td>Male</td>\n",
       "      <td>green</td>\n",
       "      <td>Human / Radiation</td>\n",
       "      <td>no hair</td>\n",
       "      <td>203.0</td>\n",
       "      <td>Marvel Comics</td>\n",
       "      <td>-</td>\n",
       "      <td>bad</td>\n",
       "      <td>441.0</td>\n",
       "      <td>...</td>\n",
       "      <td>False</td>\n",
       "      <td>False</td>\n",
       "      <td>False</td>\n",
       "      <td>False</td>\n",
       "      <td>False</td>\n",
       "      <td>False</td>\n",
       "      <td>False</td>\n",
       "      <td>False</td>\n",
       "      <td>False</td>\n",
       "      <td>False</td>\n",
       "    </tr>\n",
       "    <tr>\n",
       "      <td>4</td>\n",
       "      <td>Abraxas</td>\n",
       "      <td>Male</td>\n",
       "      <td>blue</td>\n",
       "      <td>Cosmic Entity</td>\n",
       "      <td>black</td>\n",
       "      <td>183.0</td>\n",
       "      <td>Marvel Comics</td>\n",
       "      <td>-</td>\n",
       "      <td>bad</td>\n",
       "      <td>81.0</td>\n",
       "      <td>...</td>\n",
       "      <td>False</td>\n",
       "      <td>False</td>\n",
       "      <td>False</td>\n",
       "      <td>False</td>\n",
       "      <td>False</td>\n",
       "      <td>False</td>\n",
       "      <td>False</td>\n",
       "      <td>False</td>\n",
       "      <td>False</td>\n",
       "      <td>False</td>\n",
       "    </tr>\n",
       "  </tbody>\n",
       "</table>\n",
       "<p>5 rows × 178 columns</p>\n",
       "</div>"
      ],
      "text/plain": [
       "          name Gender Eye color               Race Hair color  Height  \\\n",
       "0       A-Bomb   Male    yellow              Human    no hair   203.0   \n",
       "1   Abe Sapien   Male      blue      Icthyo Sapien    no hair   191.0   \n",
       "2     Abin Sur   Male      blue            Ungaran    no hair   185.0   \n",
       "3  Abomination   Male     green  Human / Radiation    no hair   203.0   \n",
       "4      Abraxas   Male      blue      Cosmic Entity      black   183.0   \n",
       "\n",
       "           Publisher Skin color Alignment  Weight  ... Web Creation  \\\n",
       "0      Marvel Comics          -      good   441.0  ...        False   \n",
       "1  Dark Horse Comics       blue      good    65.0  ...        False   \n",
       "2          DC Comics        red      good    90.0  ...        False   \n",
       "3      Marvel Comics          -       bad   441.0  ...        False   \n",
       "4      Marvel Comics          -       bad    81.0  ...        False   \n",
       "\n",
       "  Reality Warping Odin Force Symbiote Costume Speed Force Phoenix Force  \\\n",
       "0           False      False            False       False         False   \n",
       "1           False      False            False       False         False   \n",
       "2           False      False            False       False         False   \n",
       "3           False      False            False       False         False   \n",
       "4           False      False            False       False         False   \n",
       "\n",
       "  Molecular Dissipation Vision - Cryo Omnipresent Omniscient  \n",
       "0                 False         False       False      False  \n",
       "1                 False         False       False      False  \n",
       "2                 False         False       False      False  \n",
       "3                 False         False       False      False  \n",
       "4                 False         False       False      False  \n",
       "\n",
       "[5 rows x 178 columns]"
      ]
     },
     "execution_count": 254,
     "metadata": {},
     "output_type": "execute_result"
    }
   ],
   "source": [
    "print(len(powers_df), len(heroes_df))\n",
    "powers_df_tojoin = powers_df.set_index('hero_names')\n",
    "heroes_df_tojoin = heroes_df.set_index('name')\n",
    "heroes_df_tojoin\n",
    "\n",
    "joined_df = heroes_df.join(powers_df)\n",
    "# print(len(joined_df))\n",
    "joined_df.duplicated(keep='first')\n",
    "joined_df.info()\n",
    "joined_df.head()       "
   ]
  },
  {
   "cell_type": "code",
   "execution_count": null,
   "metadata": {},
   "outputs": [],
   "source": []
  },
  {
   "cell_type": "code",
   "execution_count": null,
   "metadata": {},
   "outputs": [],
   "source": []
  },
  {
   "cell_type": "markdown",
   "metadata": {},
   "source": [
    "In the cell below, subset male and female heroes into different dataframes.  Create a scatterplot of the height and weight of each hero, with weight as the y-axis.  Plot both the male and female heroes subset into each dataframe, and make the color for each point in the scatterplot correspond to the gender of the superhero."
   ]
  },
  {
   "cell_type": "code",
   "execution_count": 255,
   "metadata": {},
   "outputs": [
    {
     "data": {
      "text/plain": [
       "<matplotlib.axes._subplots.AxesSubplot at 0x1a2a9d20f0>"
      ]
     },
     "execution_count": 255,
     "metadata": {},
     "output_type": "execute_result"
    },
    {
     "data": {
      "image/png": "[encoded data removed]",
      "text/plain": [
       "<Figure size 720x432 with 1 Axes>"
      ]
     },
     "metadata": {
      "needs_background": "light"
     },
     "output_type": "display_data"
    }
   ],
   "source": [
    "female_df = joined_df[joined_df['Gender'] == \"Female\"]\n",
    "female_df.head()\n",
    "\n",
    "male_df = joined_df[joined_df['Gender'] == \"Male\"]\n",
    "male_df.head()\n",
    "\n",
    "ax1 = female_df.plot.scatter(x='Height', y='Weight', color='red', figsize=(10,6), alpha=1, label=\"Female\")\n",
    "male_df.plot.scatter(x='Height', y='Weight', color='green', ax=ax1, alpha=0.4, label=\"Male\")\n"
   ]
  },
  {
   "cell_type": "markdown",
   "metadata": {},
   "source": [
    "## Some Initial Investigation\n",
    "\n",
    "Next, slice the DataFrame as needed and visualize the distribution of heights and weights by gender.  You should have 4 total plots.  \n",
    "\n",
    "In the cell below:\n",
    "\n",
    "* Slice the DataFrame into separate DataFrames by gender\n",
    "* Complete the `show_distplot()` function.  This helper function should take in a DataFrame, a string containing the gender we want to visualize, and the column name we want to visualize by gender. The function should display a distplot visualization from seaborn of the column/gender combination.  \n",
    "\n",
    "Hint: Don't forget to check the [seaborn documentation for distplot](https://seaborn.pydata.org/generated/seaborn.distplot.html) if you have questions about how to use it correctly! "
   ]
  },
  {
   "cell_type": "code",
   "execution_count": 256,
   "metadata": {},
   "outputs": [],
   "source": [
    "import seaborn as sns\n",
    "male_heroes_df = male_df\n",
    "female_heroes_df = female_df\n",
    "\n",
    "\n",
    "def show_distplot(dataframe, gender, column_name):\n",
    "    sns.distplot(dataframe[column_name])\n",
    "    \n"
   ]
  },
  {
   "cell_type": "code",
   "execution_count": 257,
   "metadata": {},
   "outputs": [
    {
     "data": {
      "text/plain": [
       "count    493.000000\n",
       "mean     189.856998\n",
       "std       58.316233\n",
       "min       15.200000\n",
       "25%      183.000000\n",
       "50%      183.000000\n",
       "75%      188.000000\n",
       "max      975.000000\n",
       "Name: Height, dtype: float64"
      ]
     },
     "execution_count": 257,
     "metadata": {},
     "output_type": "execute_result"
    },
    {
     "data": {
      "image/png": "[encoded data removed]",
      "text/plain": [
       "<Figure size 432x288 with 1 Axes>"
      ]
     },
     "metadata": {
      "needs_background": "light"
     },
     "output_type": "display_data"
    }
   ],
   "source": [
    "# Male Height\n",
    "show_distplot(male_heroes_df, \"Male\", \"Height\")\n",
    "#sns.distplot(male_df['Height'])\n",
    "male_heroes_df[\"Height\"].describe()"
   ]
  },
  {
   "cell_type": "code",
   "execution_count": 258,
   "metadata": {},
   "outputs": [
    {
     "data": {
      "text/plain": [
       "count    493.000000\n",
       "mean     111.645030\n",
       "std       94.154743\n",
       "min        2.000000\n",
       "25%       81.000000\n",
       "50%       81.000000\n",
       "75%      101.000000\n",
       "max      900.000000\n",
       "Name: Weight, dtype: float64"
      ]
     },
     "execution_count": 258,
     "metadata": {},
     "output_type": "execute_result"
    },
    {
     "data": {
      "image/png": "[encoded data removed]",
      "text/plain": [
       "<Figure size 432x288 with 1 Axes>"
      ]
     },
     "metadata": {
      "needs_background": "light"
     },
     "output_type": "display_data"
    }
   ],
   "source": [
    "# Male Weight\n",
    "show_distplot(male_heroes_df, \"Male\", \"Weight\")\n",
    "male_heroes_df[\"Weight\"].describe()"
   ]
  },
  {
   "cell_type": "code",
   "execution_count": 259,
   "metadata": {},
   "outputs": [
    {
     "data": {
      "text/plain": [
       "count    198.000000\n",
       "mean     176.952020\n",
       "std       20.528894\n",
       "min       62.500000\n",
       "25%      168.000000\n",
       "50%      175.000000\n",
       "75%      183.000000\n",
       "max      366.000000\n",
       "Name: Height, dtype: float64"
      ]
     },
     "execution_count": 259,
     "metadata": {},
     "output_type": "execute_result"
    },
    {
     "data": {
      "image/png": "[encoded data removed]",
      "text/plain": [
       "<Figure size 432x288 with 1 Axes>"
      ]
     },
     "metadata": {
      "needs_background": "light"
     },
     "output_type": "display_data"
    }
   ],
   "source": [
    "# Female Height\n",
    "show_distplot(female_heroes_df, \"Female\", \"Height\")\n",
    "female_heroes_df[\"Height\"].describe()"
   ]
  },
  {
   "cell_type": "code",
   "execution_count": 260,
   "metadata": {},
   "outputs": [
    {
     "data": {
      "text/plain": [
       "count    198.000000\n",
       "mean      79.449495\n",
       "std       65.129819\n",
       "min       41.000000\n",
       "25%       55.000000\n",
       "50%       62.500000\n",
       "75%       81.000000\n",
       "max      630.000000\n",
       "Name: Weight, dtype: float64"
      ]
     },
     "execution_count": 260,
     "metadata": {},
     "output_type": "execute_result"
    },
    {
     "data": {
      "image/png": "[encoded data removed]",
      "text/plain": [
       "<Figure size 432x288 with 1 Axes>"
      ]
     },
     "metadata": {
      "needs_background": "light"
     },
     "output_type": "display_data"
    }
   ],
   "source": [
    "# Female Weight\n",
    "show_distplot(female_heroes_df, \"Female\", \"Weight\")\n",
    "female_heroes_df[\"Weight\"].describe()"
   ]
  },
  {
   "cell_type": "markdown",
   "metadata": {},
   "source": [
    "Discuss your findings from the plots above, with respect to the distribution of height and weight by gender.  Your explanation should include a discussion of any relevant summary statistics, including mean, median, mode, and the overall shape of each distribution.  \n",
    "\n",
    "Write your answer below this line:\n",
    "____________________________________________________________________________________________________________________________\n",
    "\n",
    "Height and weight was greater for male superheroes and had a greater variance.  There is a clear problem with the female distribution.  When we replaced missing height and weight data in our original dataset, we chose to replace the missing data with the median data of the entire set.  There appears likely correlation between gender and weight/height, so this was a flawed method for cleaning the data if gender was to be used to differentiate. This creates the false second bump in the female graphs.\n"
   ]
  },
  {
   "cell_type": "markdown",
   "metadata": {},
   "source": [
    "### Sample Question: Most Common Powers\n",
    "\n",
    "The rest of this notebook will be left to you to investigate the dataset by formulating your own questions, and then seeking answers using pandas and numpy.  Every answer should include some sort of visualization, when appropriate. Before moving on to formulating your own questions, use the dataset to answer the following questions about superhero powers:\n",
    "\n",
    "* What are the 5 most common powers overall?\n",
    "* What are the 5 most common powers in the Marvel Universe?\n",
    "* What are the 5 most common powers in the DC Universe?"
   ]
  },
  {
   "cell_type": "code",
   "execution_count": 261,
   "metadata": {},
   "outputs": [
    {
     "name": "stdout",
     "output_type": "stream",
     "text": [
      "Index(['Agility', 'Accelerated Healing', 'Lantern Power Ring',\n",
      "       'Dimensional Awareness', 'Cold Resistance', 'Durability', 'Stealth',\n",
      "       'Energy Absorption', 'Flight', 'Danger Sense',\n",
      "       ...\n",
      "       'Web Creation', 'Reality Warping', 'Odin Force', 'Symbiote Costume',\n",
      "       'Speed Force', 'Phoenix Force', 'Molecular Dissipation',\n",
      "       'Vision - Cryo', 'Omnipresent', 'Omniscient'],\n",
      "      dtype='object', length=167)\n"
     ]
    },
    {
     "data": {
      "text/plain": [
       "Agility           239.0\n",
       "Super Speed       243.0\n",
       "Durability        251.0\n",
       "Stamina           282.0\n",
       "Super Strength    351.0\n",
       "dtype: float64"
      ]
     },
     "execution_count": 261,
     "metadata": {},
     "output_type": "execute_result"
    }
   ],
   "source": [
    "joined_df.head()\n",
    "print(joined_df.columns[11:])\n",
    "\n",
    "joined_df.iloc[:, 11:].sum().sort_values().tail()\n",
    "\n",
    "# Five most common powers are the boring ones\n"
   ]
  },
  {
   "cell_type": "code",
   "execution_count": 262,
   "metadata": {},
   "outputs": [
    {
     "data": {
      "text/plain": [
       "Agility           113.0\n",
       "Super Speed       131.0\n",
       "Durability        138.0\n",
       "Stamina           142.0\n",
       "Super Strength    194.0\n",
       "dtype: float64"
      ]
     },
     "execution_count": 262,
     "metadata": {},
     "output_type": "execute_result"
    }
   ],
   "source": [
    "#joined_df.groupby(['Publisher']).head()\n",
    "#joined_df.head()\n",
    "marvel_df = joined_df[joined_df['Publisher'] == 'Marvel Comics']\n",
    "\n",
    "marvel_df.iloc[:, 11:].sum().sort_values().tail()\n",
    "#.iloc[:, 11:].sum().sort_values()\n",
    "\n"
   ]
  },
  {
   "cell_type": "code",
   "execution_count": 263,
   "metadata": {},
   "outputs": [
    {
     "data": {
      "text/plain": [
       "Super Speed       75.0\n",
       "Durability        76.0\n",
       "Agility           81.0\n",
       "Stamina           91.0\n",
       "Super Strength    97.0\n",
       "dtype: float64"
      ]
     },
     "execution_count": 263,
     "metadata": {},
     "output_type": "execute_result"
    }
   ],
   "source": [
    "dc_df = joined_df[joined_df['Publisher'] == 'DC Comics']\n",
    "\n",
    "dc_df.iloc[:, 11:].sum().sort_values().tail()\n",
    "#.iloc[:, 11:].sum().sort_values()\n",
    "\n"
   ]
  },
  {
   "cell_type": "code",
   "execution_count": null,
   "metadata": {},
   "outputs": [],
   "source": []
  },
  {
   "cell_type": "markdown",
   "metadata": {},
   "source": [
    "Analyze the results you found above to answer the following question:\n",
    "\n",
    "How do the top 5 powers in the Marvel and DC universes compare?  Are they similar, or are there significant differences? How do they compare to the overall trends in the entire Superheroes dataset?\n",
    "\n",
    "Write your answer below this line:\n",
    "____________________________________________________________________________________________________________________________\n",
    "The five most common powers are the same for both leading comic book companies.  The order is only slightly different.  The different publishers seem to create similar superheroes.\n",
    "\n",
    "\n",
    "### Your Own Investigation\n",
    "\n",
    "For the remainder of this lab, you'll be focusing on coming up with and answering your own question, just like we did above.  Your question should not be overly simple, and should require both descriptive statistics and data visualization to answer.  In case you're unsure of what questions to ask, some sample questions have been provided below.\n",
    "\n",
    "Pick one of the following questions to investigate and answer, or come up with one of your own!\n",
    "\n",
    "* Which powers have the highest chance of co-occurring in a hero (e.g. super strength and flight), and does this differ by gender?\n",
    "* Is there a relationship between a hero's height and weight and their powerset?\n",
    "* What is the distribution of skin colors amongst alien heroes?\n",
    "\n",
    "Explain your question below this line:\n",
    "____________________________________________________________________________________________________________________________\n",
    "\n",
    "What is the relationship between the number of powers and the alignment of the character?  What does the distribution look like?\n",
    "\n",
    "\n",
    "Some sample cells have been provided to give you room to work. If you need to create more cells, you can do this easily by:\n",
    "\n",
    "1. Highlighting a cell and then pressing `esc` to enter command mode.\n",
    "1. Pressing `b` to add a cell below the currently highlighted cell, or `a` to add one above it.  \n",
    "\n",
    "Be sure to include thoughtful, well-labeled visualizations to back up your analysis!"
   ]
  },
  {
   "cell_type": "code",
   "execution_count": 264,
   "metadata": {},
   "outputs": [
    {
     "ename": "NameError",
     "evalue": "name 'joint_df' is not defined",
     "output_type": "error",
     "traceback": [
      "\u001b[0;31m---------------------------------------------------------------------------\u001b[0m",
      "\u001b[0;31mNameError\u001b[0m                                 Traceback (most recent call last)",
      "\u001b[0;32m<ipython-input-264-2e733aabf1f1>\u001b[0m in \u001b[0;36m<module>\u001b[0;34m\u001b[0m\n\u001b[0;32m----> 1\u001b[0;31m \u001b[0mjoint_df\u001b[0m\u001b[0;34m[\u001b[0m\u001b[0;34m'Align'\u001b[0m\u001b[0;34m]\u001b[0m\u001b[0;34m.\u001b[0m\u001b[0munique\u001b[0m\u001b[0;34m(\u001b[0m\u001b[0;34m)\u001b[0m\u001b[0;34m\u001b[0m\u001b[0;34m\u001b[0m\u001b[0m\n\u001b[0m",
      "\u001b[0;31mNameError\u001b[0m: name 'joint_df' is not defined"
     ]
    }
   ],
   "source": [
    "joint_df['Align'].unique()"
   ]
  },
  {
   "cell_type": "code",
   "execution_count": 286,
   "metadata": {},
   "outputs": [
    {
     "data": {
      "text/plain": [
       "49.0"
      ]
     },
     "execution_count": 286,
     "metadata": {},
     "output_type": "execute_result"
    }
   ],
   "source": [
    "# make a column for number of powers\n",
    "joined_df[\"number_powers\"] = joined_df.iloc[: ,11:178].sum(axis=1)\n",
    "joined_df.head()\n",
    "\n",
    "joined_df.iloc[0, 11:178].sum()\n",
    "joined_df.shape\n",
    "\n",
    "# # if they have no powers, they likely were all NaNs from the join\n",
    "powered_df = joined_df[joined_df['number_powers'] > 0]\n",
    "\n",
    "\n",
    "# # split up my good and bad supers\n",
    "good_df = powered_df.loc[powered_df['Alignment'] == 'good', :]\n",
    "bad_df = powered_df.loc[powered_df['Alignment'] == 'bad', :]\n",
    "good_df['number_powers'].max()\n",
    "\n",
    "\n"
   ]
  },
  {
   "cell_type": "code",
   "execution_count": 294,
   "metadata": {},
   "outputs": [
    {
     "data": {
      "text/plain": [
       "count    438.000000\n",
       "mean       9.066210\n",
       "std        7.630044\n",
       "min        1.000000\n",
       "25%        4.000000\n",
       "50%        7.000000\n",
       "75%       12.750000\n",
       "max       49.000000\n",
       "Name: number_powers, dtype: float64"
      ]
     },
     "execution_count": 294,
     "metadata": {},
     "output_type": "execute_result"
    },
    {
     "data": {
      "image/png": "[encoded data removed]",
      "text/plain": [
       "<Figure size 432x288 with 1 Axes>"
      ]
     },
     "metadata": {
      "needs_background": "light"
     },
     "output_type": "display_data"
    }
   ],
   "source": [
    "# Histogram\n",
    "# ax = good_df.hist('number_powers', bins=int(good_df['number_powers'].max()))\n",
    "\n",
    "# Seaborn distplot of same data\n",
    "sns.distplot(good_df['number_powers'], bins=int(good_df['number_powers'].max()), kde=False)\n",
    "plt.title(\"Number of Powers for Superheroes\")\n",
    "plt.xlabel(\"Number Powers\")\n",
    "plt.ylabel(\"Frequency\")\n",
    "\n",
    "good_df['number_powers'].describe()\n",
    "\n"
   ]
  },
  {
   "cell_type": "code",
   "execution_count": 292,
   "metadata": {},
   "outputs": [
    {
     "data": {
      "text/plain": [
       "<matplotlib.axes._subplots.AxesSubplot at 0x1a296ce710>"
      ]
     },
     "execution_count": 292,
     "metadata": {},
     "output_type": "execute_result"
    },
    {
     "data": {
      "image/png": "[encoded data removed]",
      "text/plain": [
       "<Figure size 432x288 with 1 Axes>"
      ]
     },
     "metadata": {
      "needs_background": "light"
     },
     "output_type": "display_data"
    }
   ],
   "source": [
    "good_df.boxplot('number_powers')"
   ]
  },
  {
   "cell_type": "code",
   "execution_count": 289,
   "metadata": {},
   "outputs": [
    {
     "data": {
      "text/plain": [
       "count    186.000000\n",
       "mean       8.403226\n",
       "std        6.618058\n",
       "min        1.000000\n",
       "25%        3.000000\n",
       "50%        7.000000\n",
       "75%       12.000000\n",
       "max       35.000000\n",
       "Name: number_powers, dtype: float64"
      ]
     },
     "execution_count": 289,
     "metadata": {},
     "output_type": "execute_result"
    },
    {
     "data": {
      "image/png": "[encoded data removed]",
      "text/plain": [
       "<Figure size 432x288 with 1 Axes>"
      ]
     },
     "metadata": {
      "needs_background": "light"
     },
     "output_type": "display_data"
    }
   ],
   "source": [
    "# Seaborn distplot of same data\n",
    "sns.distplot(bad_df['number_powers'], kde=False, bins=int(bad_df['number_powers'].max()))\n",
    "plt.title(\"Number of Powers for Supervillains\")\n",
    "plt.xlabel(\"Number Powers\")\n",
    "plt.ylabel(\"Frequency\")\n",
    "\n",
    "bad_df['number_powers'].describe()"
   ]
  },
  {
   "cell_type": "code",
   "execution_count": 293,
   "metadata": {},
   "outputs": [
    {
     "data": {
      "text/plain": [
       "<matplotlib.axes._subplots.AxesSubplot at 0x1a29760ac8>"
      ]
     },
     "execution_count": 293,
     "metadata": {},
     "output_type": "execute_result"
    },
    {
     "data": {
      "image/png": "[encoded data removed]",
      "text/plain": [
       "<Figure size 432x288 with 1 Axes>"
      ]
     },
     "metadata": {
      "needs_background": "light"
     },
     "output_type": "display_data"
    }
   ],
   "source": [
    "bad_df.boxplot('number_powers')"
   ]
  },
  {
   "cell_type": "markdown",
   "metadata": {},
   "source": [
    "Conclusion:\n",
    "Supervillains on average have slightly fewer powers than superheroes.  Both groups have histogram plots for the number of powers that skew right, with superheroes have a greater standard deviation of powers.  The most common number of powers for both groups is 1, but outliers in both groups have more than 20 or 30 powers each."
   ]
  },
  {
   "cell_type": "markdown",
   "metadata": {},
   "source": [
    "## Summary\n",
    "\n",
    "In this lab, we demonstrated our mastery of:\n",
    "* Using all of our Pandas knowledge to date to clean the dataset and deal with null values\n",
    "* Using Queries and aggregations to group the data into interesting subsets as needed\n",
    "* Using descriptive statistics and data visualization to find answers to questions we may have about the data"
   ]
  }
 ],
 "metadata": {
  "kernelspec": {
   "display_name": "Python 3",
   "language": "python",
   "name": "python3"
  },
  "language_info": {
   "codemirror_mode": {
    "name": "ipython",
    "version": 3
   },
   "file_extension": ".py",
   "mimetype": "text/x-python",
   "name": "python",
   "nbconvert_exporter": "python",
   "pygments_lexer": "ipython3",
   "version": "3.6.9"
  }
 },
 "nbformat": 4,
 "nbformat_minor": 2
}
